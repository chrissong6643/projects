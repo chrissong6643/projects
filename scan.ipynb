{
  "nbformat": 4,
  "nbformat_minor": 0,
  "metadata": {
    "colab": {
      "provenance": []
    },
    "kernelspec": {
      "name": "python3",
      "display_name": "Python 3"
    },
    "language_info": {
      "name": "python"
    }
  },
  "cells": [
    {
      "cell_type": "code",
      "source": [
        "from google.colab import drive\n",
        "drive.mount('/content/drive')\n",
        "%cd /content/drive/MyDrive"
      ],
      "metadata": {
        "colab": {
          "base_uri": "https://localhost:8080/"
        },
        "id": "b2pzwpI5nPAx",
        "outputId": "eb132291-0133-4921-a503-8c0ecc656afc"
      },
      "execution_count": null,
      "outputs": [
        {
          "output_type": "stream",
          "name": "stdout",
          "text": [
            "Drive already mounted at /content/drive; to attempt to forcibly remount, call drive.mount(\"/content/drive\", force_remount=True).\n",
            "/content/drive/MyDrive\n"
          ]
        }
      ]
    },
    {
      "cell_type": "code",
      "source": [
        "%pip install pytesseract opencv-python pillow"
      ],
      "metadata": {
        "colab": {
          "base_uri": "https://localhost:8080/"
        },
        "id": "w0luBoUUkuN1",
        "outputId": "84f31669-fc8e-4261-dd1b-cebae3e90628"
      },
      "execution_count": null,
      "outputs": [
        {
          "output_type": "stream",
          "name": "stdout",
          "text": [
            "Requirement already satisfied: pytesseract in /usr/local/lib/python3.11/dist-packages (0.3.13)\n",
            "Requirement already satisfied: opencv-python in /usr/local/lib/python3.11/dist-packages (4.10.0.84)\n",
            "Requirement already satisfied: pillow in /usr/local/lib/python3.11/dist-packages (11.1.0)\n",
            "Requirement already satisfied: packaging>=21.3 in /usr/local/lib/python3.11/dist-packages (from pytesseract) (24.2)\n",
            "Requirement already satisfied: numpy>=1.21.2 in /usr/local/lib/python3.11/dist-packages (from opencv-python) (1.26.4)\n"
          ]
        }
      ]
    },
    {
      "cell_type": "code",
      "source": [
        "!apt install tesseract-ocr"
      ],
      "metadata": {
        "colab": {
          "base_uri": "https://localhost:8080/"
        },
        "id": "VZ920o8WqsoM",
        "outputId": "013fc301-5ab6-40f3-820f-7649a7e4a008"
      },
      "execution_count": null,
      "outputs": [
        {
          "output_type": "stream",
          "name": "stdout",
          "text": [
            "Reading package lists... Done\n",
            "Building dependency tree... Done\n",
            "Reading state information... Done\n",
            "The following additional packages will be installed:\n",
            "  tesseract-ocr-eng tesseract-ocr-osd\n",
            "The following NEW packages will be installed:\n",
            "  tesseract-ocr tesseract-ocr-eng tesseract-ocr-osd\n",
            "0 upgraded, 3 newly installed, 0 to remove and 18 not upgraded.\n",
            "Need to get 4,816 kB of archives.\n",
            "After this operation, 15.6 MB of additional disk space will be used.\n",
            "Get:1 http://archive.ubuntu.com/ubuntu jammy/universe amd64 tesseract-ocr-eng all 1:4.00~git30-7274cfa-1.1 [1,591 kB]\n",
            "Get:2 http://archive.ubuntu.com/ubuntu jammy/universe amd64 tesseract-ocr-osd all 1:4.00~git30-7274cfa-1.1 [2,990 kB]\n",
            "Get:3 http://archive.ubuntu.com/ubuntu jammy/universe amd64 tesseract-ocr amd64 4.1.1-2.1build1 [236 kB]\n",
            "Fetched 4,816 kB in 1s (4,771 kB/s)\n",
            "Selecting previously unselected package tesseract-ocr-eng.\n",
            "(Reading database ... 124950 files and directories currently installed.)\n",
            "Preparing to unpack .../tesseract-ocr-eng_1%3a4.00~git30-7274cfa-1.1_all.deb ...\n",
            "Unpacking tesseract-ocr-eng (1:4.00~git30-7274cfa-1.1) ...\n",
            "Selecting previously unselected package tesseract-ocr-osd.\n",
            "Preparing to unpack .../tesseract-ocr-osd_1%3a4.00~git30-7274cfa-1.1_all.deb ...\n",
            "Unpacking tesseract-ocr-osd (1:4.00~git30-7274cfa-1.1) ...\n",
            "Selecting previously unselected package tesseract-ocr.\n",
            "Preparing to unpack .../tesseract-ocr_4.1.1-2.1build1_amd64.deb ...\n",
            "Unpacking tesseract-ocr (4.1.1-2.1build1) ...\n",
            "Setting up tesseract-ocr-eng (1:4.00~git30-7274cfa-1.1) ...\n",
            "Setting up tesseract-ocr-osd (1:4.00~git30-7274cfa-1.1) ...\n",
            "Setting up tesseract-ocr (4.1.1-2.1build1) ...\n",
            "Processing triggers for man-db (2.10.2-1) ...\n"
          ]
        }
      ]
    },
    {
      "cell_type": "code",
      "execution_count": null,
      "metadata": {
        "colab": {
          "base_uri": "https://localhost:8080/"
        },
        "id": "Gztu4eFOdGxe",
        "outputId": "1a8a2ad5-5317-409c-fceb-cc15a175c8da"
      },
      "outputs": [
        {
          "output_type": "stream",
          "name": "stdout",
          "text": [
            "Extracted Text:\n",
            " ( i MEDICARE HEALTH INSURANCE\n",
            "\n",
            "   \n",
            "\n",
            "  \n",
            "   \n",
            "  \n",
            "  \n",
            "   \n",
            " \n",
            "\n",
            "Name/Nombre\n",
            "\n",
            "JOHN L SMITH\n",
            "\n",
            "Medicare Number/Numero de Medicare\n",
            "\n",
            "4EG4-TE5-MK72\n",
            "Entitled to/Con derecho a Coverage starts/Cobertura empieza\n",
            "PART A 03-03-2016\n",
            "\n",
            "PART B 03-03-2016\n",
            "\n",
            "   \n",
            "\f\n",
            "Name: \n",
            "Medicare Number: \n",
            "Coverage Start (Part A): PART A 03-03-2016\n",
            "Coverage Start (Part B): \n"
          ]
        }
      ],
      "source": [
        "import cv2\n",
        "import pytesseract\n",
        "\n",
        "# Load the image\n",
        "image_path = \"medi.jpg\"\n",
        "image = cv2.imread(image_path)\n",
        "\n",
        "# Convert to grayscale\n",
        "gray = cv2.cvtColor(image, cv2.COLOR_BGR2GRAY)\n",
        "\n",
        "# Use OCR to extract text\n",
        "extracted_text = pytesseract.image_to_string(gray)\n",
        "\n",
        "# Print extracted text for debugging\n",
        "print(\"Extracted Text:\\n\", extracted_text)\n",
        "\n",
        "# Initialize variables\n",
        "name = \"\"\n",
        "medicare_number = \"\"\n",
        "coverage_start_a = \"\"\n",
        "coverage_start_b = \"\"\n",
        "\n",
        "# Parse the text\n",
        "lines = extracted_text.split(\"\\n\")\n",
        "for i, line in enumerate(lines):\n",
        "    if \"Name\" in line:\n",
        "        name = lines[i+1].strip()\n",
        "    elif \"Medicare Number\" in line:\n",
        "        medicare_number = lines[i+1].strip()\n",
        "    elif \"Coverage starts\" in line:\n",
        "        coverage_start_a = lines[i+1].strip()\n",
        "        coverage_start_b = lines[i+2].strip()\n",
        "\n",
        "# Output the extracted details\n",
        "print(\"Name:\", name)\n",
        "print(\"Medicare Number:\", medicare_number)\n",
        "print(\"Coverage Start (Part A):\", coverage_start_a)\n",
        "print(\"Coverage Start (Part B):\", coverage_start_b)\n"
      ]
    }
  ]
}
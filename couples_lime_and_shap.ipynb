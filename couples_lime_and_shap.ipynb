{
  "cells": [
    {
      "cell_type": "code",
      "execution_count": null,
      "metadata": {
        "colab": {
          "base_uri": "https://localhost:8080/"
        },
        "collapsed": true,
        "id": "eaXtCslT9R5S",
        "outputId": "ce1749db-148d-42b6-886b-435eba3ca211"
      },
      "outputs": [
        {
          "output_type": "stream",
          "name": "stdout",
          "text": [
            "Collecting lime\n",
            "  Downloading lime-0.2.0.1.tar.gz (275 kB)\n",
            "\u001b[?25l     \u001b[90m━━━━━━━━━━━━━━━━━━━━━━━━━━━━━━━━━━━━━━━━\u001b[0m \u001b[32m0.0/275.7 kB\u001b[0m \u001b[31m?\u001b[0m eta \u001b[36m-:--:--\u001b[0m\r\u001b[2K     \u001b[91m━━━━━━━━━━━━━━━\u001b[0m\u001b[91m╸\u001b[0m\u001b[90m━━━━━━━━━━━━━━━━━━━━━━━\u001b[0m \u001b[32m112.6/275.7 kB\u001b[0m \u001b[31m3.6 MB/s\u001b[0m eta \u001b[36m0:00:01\u001b[0m\r\u001b[2K     \u001b[90m━━━━━━━━━━━━━━━━━━━━━━━━━━━━━━━━━━━━━━━\u001b[0m \u001b[32m275.7/275.7 kB\u001b[0m \u001b[31m5.3 MB/s\u001b[0m eta \u001b[36m0:00:00\u001b[0m\n",
            "\u001b[?25h  Preparing metadata (setup.py) ... \u001b[?25l\u001b[?25hdone\n",
            "Requirement already satisfied: matplotlib in /usr/local/lib/python3.10/dist-packages (from lime) (3.7.1)\n",
            "Requirement already satisfied: numpy in /usr/local/lib/python3.10/dist-packages (from lime) (1.23.5)\n",
            "Requirement already satisfied: scipy in /usr/local/lib/python3.10/dist-packages (from lime) (1.11.3)\n",
            "Requirement already satisfied: tqdm in /usr/local/lib/python3.10/dist-packages (from lime) (4.66.1)\n",
            "Requirement already satisfied: scikit-learn>=0.18 in /usr/local/lib/python3.10/dist-packages (from lime) (1.2.2)\n",
            "Requirement already satisfied: scikit-image>=0.12 in /usr/local/lib/python3.10/dist-packages (from lime) (0.19.3)\n",
            "Requirement already satisfied: networkx>=2.2 in /usr/local/lib/python3.10/dist-packages (from scikit-image>=0.12->lime) (3.1)\n",
            "Requirement already satisfied: pillow!=7.1.0,!=7.1.1,!=8.3.0,>=6.1.0 in /usr/local/lib/python3.10/dist-packages (from scikit-image>=0.12->lime) (9.4.0)\n",
            "Requirement already satisfied: imageio>=2.4.1 in /usr/local/lib/python3.10/dist-packages (from scikit-image>=0.12->lime) (2.31.4)\n",
            "Requirement already satisfied: tifffile>=2019.7.26 in /usr/local/lib/python3.10/dist-packages (from scikit-image>=0.12->lime) (2023.9.26)\n",
            "Requirement already satisfied: PyWavelets>=1.1.1 in /usr/local/lib/python3.10/dist-packages (from scikit-image>=0.12->lime) (1.4.1)\n",
            "Requirement already satisfied: packaging>=20.0 in /usr/local/lib/python3.10/dist-packages (from scikit-image>=0.12->lime) (23.1)\n",
            "Requirement already satisfied: joblib>=1.1.1 in /usr/local/lib/python3.10/dist-packages (from scikit-learn>=0.18->lime) (1.3.2)\n",
            "Requirement already satisfied: threadpoolctl>=2.0.0 in /usr/local/lib/python3.10/dist-packages (from scikit-learn>=0.18->lime) (3.2.0)\n",
            "Requirement already satisfied: contourpy>=1.0.1 in /usr/local/lib/python3.10/dist-packages (from matplotlib->lime) (1.1.1)\n",
            "Requirement already satisfied: cycler>=0.10 in /usr/local/lib/python3.10/dist-packages (from matplotlib->lime) (0.12.0)\n",
            "Requirement already satisfied: fonttools>=4.22.0 in /usr/local/lib/python3.10/dist-packages (from matplotlib->lime) (4.43.0)\n",
            "Requirement already satisfied: kiwisolver>=1.0.1 in /usr/local/lib/python3.10/dist-packages (from matplotlib->lime) (1.4.5)\n",
            "Requirement already satisfied: pyparsing>=2.3.1 in /usr/local/lib/python3.10/dist-packages (from matplotlib->lime) (3.1.1)\n",
            "Requirement already satisfied: python-dateutil>=2.7 in /usr/local/lib/python3.10/dist-packages (from matplotlib->lime) (2.8.2)\n",
            "Requirement already satisfied: six>=1.5 in /usr/local/lib/python3.10/dist-packages (from python-dateutil>=2.7->matplotlib->lime) (1.16.0)\n",
            "Building wheels for collected packages: lime\n",
            "  Building wheel for lime (setup.py) ... \u001b[?25l\u001b[?25hdone\n",
            "  Created wheel for lime: filename=lime-0.2.0.1-py3-none-any.whl size=283834 sha256=d868f30fdf2d7c510080ab79fdb842d1c7ead95c3d542db2822c37f1616cc221\n",
            "  Stored in directory: /root/.cache/pip/wheels/fd/a2/af/9ac0a1a85a27f314a06b39e1f492bee1547d52549a4606ed89\n",
            "Successfully built lime\n",
            "Installing collected packages: lime\n",
            "Successfully installed lime-0.2.0.1\n",
            "Collecting shap\n",
            "  Downloading shap-0.42.1-cp310-cp310-manylinux_2_12_x86_64.manylinux2010_x86_64.manylinux_2_17_x86_64.manylinux2014_x86_64.whl (547 kB)\n",
            "\u001b[2K     \u001b[90m━━━━━━━━━━━━━━━━━━━━━━━━━━━━━━━━━━━━━━━\u001b[0m \u001b[32m547.9/547.9 kB\u001b[0m \u001b[31m6.0 MB/s\u001b[0m eta \u001b[36m0:00:00\u001b[0m\n",
            "\u001b[?25hRequirement already satisfied: numpy in /usr/local/lib/python3.10/dist-packages (from shap) (1.23.5)\n",
            "Requirement already satisfied: scipy in /usr/local/lib/python3.10/dist-packages (from shap) (1.11.3)\n",
            "Requirement already satisfied: scikit-learn in /usr/local/lib/python3.10/dist-packages (from shap) (1.2.2)\n",
            "Requirement already satisfied: pandas in /usr/local/lib/python3.10/dist-packages (from shap) (1.5.3)\n",
            "Requirement already satisfied: tqdm>=4.27.0 in /usr/local/lib/python3.10/dist-packages (from shap) (4.66.1)\n",
            "Requirement already satisfied: packaging>20.9 in /usr/local/lib/python3.10/dist-packages (from shap) (23.1)\n",
            "Collecting slicer==0.0.7 (from shap)\n",
            "  Downloading slicer-0.0.7-py3-none-any.whl (14 kB)\n",
            "Requirement already satisfied: numba in /usr/local/lib/python3.10/dist-packages (from shap) (0.56.4)\n",
            "Requirement already satisfied: cloudpickle in /usr/local/lib/python3.10/dist-packages (from shap) (2.2.1)\n",
            "Requirement already satisfied: llvmlite<0.40,>=0.39.0dev0 in /usr/local/lib/python3.10/dist-packages (from numba->shap) (0.39.1)\n",
            "Requirement already satisfied: setuptools in /usr/local/lib/python3.10/dist-packages (from numba->shap) (67.7.2)\n",
            "Requirement already satisfied: python-dateutil>=2.8.1 in /usr/local/lib/python3.10/dist-packages (from pandas->shap) (2.8.2)\n",
            "Requirement already satisfied: pytz>=2020.1 in /usr/local/lib/python3.10/dist-packages (from pandas->shap) (2023.3.post1)\n",
            "Requirement already satisfied: joblib>=1.1.1 in /usr/local/lib/python3.10/dist-packages (from scikit-learn->shap) (1.3.2)\n",
            "Requirement already satisfied: threadpoolctl>=2.0.0 in /usr/local/lib/python3.10/dist-packages (from scikit-learn->shap) (3.2.0)\n",
            "Requirement already satisfied: six>=1.5 in /usr/local/lib/python3.10/dist-packages (from python-dateutil>=2.8.1->pandas->shap) (1.16.0)\n",
            "Installing collected packages: slicer, shap\n",
            "Successfully installed shap-0.42.1 slicer-0.0.7\n"
          ]
        },
        {
          "output_type": "stream",
          "name": "stderr",
          "text": [
            "Using `tqdm.autonotebook.tqdm` in notebook mode. Use `tqdm.tqdm` instead to force console mode (e.g. in jupyter console)\n"
          ]
        }
      ],
      "source": [
        "import pandas as pd\n",
        "import numpy as np\n",
        "!pip install lime\n",
        "\n",
        "from sklearn.pipeline import make_pipeline, Pipeline\n",
        "from sklearn.preprocessing import StandardScaler, OneHotEncoder, LabelEncoder\n",
        "from sklearn.pipeline import FeatureUnion\n",
        "from sklearn.base import BaseEstimator, TransformerMixin\n",
        "from sklearn.model_selection import train_test_split, GridSearchCV\n",
        "from sklearn.ensemble import RandomForestClassifier\n",
        "from sklearn.metrics import f1_score\n",
        "\n",
        "from lime.lime_tabular import LimeTabularExplainer\n",
        "!pip install shap\n",
        "import shap\n",
        "\n",
        "pd.set_option('display.max_columns', None)"
      ]
    },
    {
      "cell_type": "code",
      "execution_count": null,
      "metadata": {
        "collapsed": true,
        "id": "qBiOt9vH9R5U"
      },
      "outputs": [],
      "source": [
        "# Class to help select categorical vs. continuous data as part of the pipeline (see below)\n",
        "class DataSelector(BaseEstimator, TransformerMixin):\n",
        "    '''Select columns of numpy arrays based on attribute_indices.'''\n",
        "\n",
        "    def __init__(self, attribute_indices):\n",
        "        self.attribute_indices = attribute_indices\n",
        "\n",
        "    def fit(self, X, y=None):\n",
        "        return self\n",
        "\n",
        "    def transform(self, X):\n",
        "        return np.array(X)[:,self.attribute_indices]"
      ]
    },
    {
      "cell_type": "code",
      "execution_count": null,
      "metadata": {
        "colab": {
          "base_uri": "https://localhost:8080/"
        },
        "id": "I9Tom40MIrqS",
        "outputId": "8563ae33-6c2f-4c12-c676-1f5b7d538f2f"
      },
      "outputs": [
        {
          "output_type": "stream",
          "name": "stdout",
          "text": [
            "Mounted at /content/drive\n",
            "/content/drive/Shareddrives/XAI_RL_MARL_RLHF/Notebooks/Baselines\n"
          ]
        }
      ],
      "source": [
        "from google.colab import drive\n",
        "drive.mount('/content/drive')\n",
        "%cd '/content/drive/Shareddrives/XAI_RL_MARL_RLHF/Notebooks/Baselines'"
      ]
    },
    {
      "cell_type": "code",
      "execution_count": null,
      "metadata": {
        "collapsed": true,
        "id": "8TgrH0ja9R5U"
      },
      "outputs": [],
      "source": [
        "# Load (preprocessed) data\n",
        "#\n",
        "# The raw data was downloaded from https://data.stanford.edu/hcmst and preprocessed.\n",
        "# We combined data sets collected across several years, we transformed select variables\n",
        "# (e.g., partner_education to be at the same level of granularity as education),\n",
        "# and added variables like the absolute age difference, education difference, etc.\n",
        "# Finally, we determined whether couples were still together (i.e., our labels).\n",
        "#\n",
        "# We provide the preprocessed data as a csv file in the same repo as this notebook.\n",
        "\n",
        "df = pd.read_csv('couples.csv')\n",
        "\n",
        "# Order features (numeric first, categorical second) since it's convenient later\n",
        "feature_order = ['age',\n",
        "                 'partner_age',\n",
        "                 'age_diff_abs',\n",
        "                 'children',\n",
        "                 'visits_relatives',\n",
        "                 'education',\n",
        "                 'marital_status',\n",
        "                 'partner_education',\n",
        "                 'gender',\n",
        "                 'house',\n",
        "                 'income',\n",
        "                 'msa',\n",
        "                 'rent',\n",
        "                 'political',\n",
        "                 'religion',\n",
        "                 'work',\n",
        "                 'gender_older',\n",
        "                 'education_difference',\n",
        "                 'success']\n",
        "\n",
        "data = df[feature_order]\n",
        "data = data[data.house != 'boat, rv, van, etc.'] # only one data point with this value, discard\n",
        "\n",
        "labels = data.pop('success')"
      ]
    },
    {
      "cell_type": "code",
      "execution_count": null,
      "metadata": {
        "colab": {
          "base_uri": "https://localhost:8080/",
          "height": 591
        },
        "id": "WY0nIx9x9R5V",
        "outputId": "0e0cdda8-f5d5-4e85-e14f-9c1d5b1b93b0"
      },
      "outputs": [
        {
          "output_type": "execute_result",
          "data": {
            "text/plain": [
              "   age  partner_age  age_diff_abs  children  visits_relatives  \\\n",
              "0   52           48             4       0.0                 0   \n",
              "1   28           30             2       0.0                 0   \n",
              "2   31           40             9       0.0                 1   \n",
              "3   53           55             2       0.0                 1   \n",
              "4   58           51             7       0.0                 0   \n",
              "\n",
              "                     education       marital_status  \\\n",
              "0  bachelor's degree or higher  living with partner   \n",
              "1  bachelor's degree or higher  living with partner   \n",
              "2                 some college        never married   \n",
              "3  bachelor's degree or higher  living with partner   \n",
              "4  bachelor's degree or higher            separated   \n",
              "\n",
              "             partner_education  gender  \\\n",
              "0                 some college  female   \n",
              "1  bachelor's degree or higher  female   \n",
              "2                  high school    male   \n",
              "3  bachelor's degree or higher    male   \n",
              "4  bachelor's degree or higher    male   \n",
              "\n",
              "                                              house                income  \\\n",
              "0              a building with 2 or more apartments    $20,000 to $24,999   \n",
              "1              a building with 2 or more apartments    $40,000 to $49,999   \n",
              "2              a building with 2 or more apartments    $40,000 to $49,999   \n",
              "3  a one-family house detached from any other house  $125,000 to $149,999   \n",
              "4              a building with 2 or more apartments    $15,000 to $19,999   \n",
              "\n",
              "     msa                                               rent political  \\\n",
              "0  metro                                    rented for cash  democrat   \n",
              "1  metro                                    rented for cash  democrat   \n",
              "2  metro  owned or being bought by you or someone in you...  democrat   \n",
              "3  metro  owned or being bought by you or someone in you...  democrat   \n",
              "4  metro                                    rented for cash  democrat   \n",
              "\n",
              "                                            religion  \\\n",
              "0                                           catholic   \n",
              "1                                             jewish   \n",
              "2               other non-christian, please specify:   \n",
              "3  protestant (e.g., methodist, lutheran, presbyt...   \n",
              "4  protestant (e.g., methodist, lutheran, presbyt...   \n",
              "\n",
              "                           work  gender_older  education_difference  \n",
              "0  working - as a paid employee             1                     1  \n",
              "1  working - as a paid employee             0                     0  \n",
              "2  working - as a paid employee             1                     1  \n",
              "3  working - as a paid employee             1                     0  \n",
              "4  working - as a paid employee             0                     0  "
            ],
            "text/html": [
              "\n",
              "  <div id=\"df-4515c409-307d-4218-b31c-53b5eda1420c\" class=\"colab-df-container\">\n",
              "    <div>\n",
              "<style scoped>\n",
              "    .dataframe tbody tr th:only-of-type {\n",
              "        vertical-align: middle;\n",
              "    }\n",
              "\n",
              "    .dataframe tbody tr th {\n",
              "        vertical-align: top;\n",
              "    }\n",
              "\n",
              "    .dataframe thead th {\n",
              "        text-align: right;\n",
              "    }\n",
              "</style>\n",
              "<table border=\"1\" class=\"dataframe\">\n",
              "  <thead>\n",
              "    <tr style=\"text-align: right;\">\n",
              "      <th></th>\n",
              "      <th>age</th>\n",
              "      <th>partner_age</th>\n",
              "      <th>age_diff_abs</th>\n",
              "      <th>children</th>\n",
              "      <th>visits_relatives</th>\n",
              "      <th>education</th>\n",
              "      <th>marital_status</th>\n",
              "      <th>partner_education</th>\n",
              "      <th>gender</th>\n",
              "      <th>house</th>\n",
              "      <th>income</th>\n",
              "      <th>msa</th>\n",
              "      <th>rent</th>\n",
              "      <th>political</th>\n",
              "      <th>religion</th>\n",
              "      <th>work</th>\n",
              "      <th>gender_older</th>\n",
              "      <th>education_difference</th>\n",
              "    </tr>\n",
              "  </thead>\n",
              "  <tbody>\n",
              "    <tr>\n",
              "      <th>0</th>\n",
              "      <td>52</td>\n",
              "      <td>48</td>\n",
              "      <td>4</td>\n",
              "      <td>0.0</td>\n",
              "      <td>0</td>\n",
              "      <td>bachelor's degree or higher</td>\n",
              "      <td>living with partner</td>\n",
              "      <td>some college</td>\n",
              "      <td>female</td>\n",
              "      <td>a building with 2 or more apartments</td>\n",
              "      <td>$20,000 to $24,999</td>\n",
              "      <td>metro</td>\n",
              "      <td>rented for cash</td>\n",
              "      <td>democrat</td>\n",
              "      <td>catholic</td>\n",
              "      <td>working - as a paid employee</td>\n",
              "      <td>1</td>\n",
              "      <td>1</td>\n",
              "    </tr>\n",
              "    <tr>\n",
              "      <th>1</th>\n",
              "      <td>28</td>\n",
              "      <td>30</td>\n",
              "      <td>2</td>\n",
              "      <td>0.0</td>\n",
              "      <td>0</td>\n",
              "      <td>bachelor's degree or higher</td>\n",
              "      <td>living with partner</td>\n",
              "      <td>bachelor's degree or higher</td>\n",
              "      <td>female</td>\n",
              "      <td>a building with 2 or more apartments</td>\n",
              "      <td>$40,000 to $49,999</td>\n",
              "      <td>metro</td>\n",
              "      <td>rented for cash</td>\n",
              "      <td>democrat</td>\n",
              "      <td>jewish</td>\n",
              "      <td>working - as a paid employee</td>\n",
              "      <td>0</td>\n",
              "      <td>0</td>\n",
              "    </tr>\n",
              "    <tr>\n",
              "      <th>2</th>\n",
              "      <td>31</td>\n",
              "      <td>40</td>\n",
              "      <td>9</td>\n",
              "      <td>0.0</td>\n",
              "      <td>1</td>\n",
              "      <td>some college</td>\n",
              "      <td>never married</td>\n",
              "      <td>high school</td>\n",
              "      <td>male</td>\n",
              "      <td>a building with 2 or more apartments</td>\n",
              "      <td>$40,000 to $49,999</td>\n",
              "      <td>metro</td>\n",
              "      <td>owned or being bought by you or someone in you...</td>\n",
              "      <td>democrat</td>\n",
              "      <td>other non-christian, please specify:</td>\n",
              "      <td>working - as a paid employee</td>\n",
              "      <td>1</td>\n",
              "      <td>1</td>\n",
              "    </tr>\n",
              "    <tr>\n",
              "      <th>3</th>\n",
              "      <td>53</td>\n",
              "      <td>55</td>\n",
              "      <td>2</td>\n",
              "      <td>0.0</td>\n",
              "      <td>1</td>\n",
              "      <td>bachelor's degree or higher</td>\n",
              "      <td>living with partner</td>\n",
              "      <td>bachelor's degree or higher</td>\n",
              "      <td>male</td>\n",
              "      <td>a one-family house detached from any other house</td>\n",
              "      <td>$125,000 to $149,999</td>\n",
              "      <td>metro</td>\n",
              "      <td>owned or being bought by you or someone in you...</td>\n",
              "      <td>democrat</td>\n",
              "      <td>protestant (e.g., methodist, lutheran, presbyt...</td>\n",
              "      <td>working - as a paid employee</td>\n",
              "      <td>1</td>\n",
              "      <td>0</td>\n",
              "    </tr>\n",
              "    <tr>\n",
              "      <th>4</th>\n",
              "      <td>58</td>\n",
              "      <td>51</td>\n",
              "      <td>7</td>\n",
              "      <td>0.0</td>\n",
              "      <td>0</td>\n",
              "      <td>bachelor's degree or higher</td>\n",
              "      <td>separated</td>\n",
              "      <td>bachelor's degree or higher</td>\n",
              "      <td>male</td>\n",
              "      <td>a building with 2 or more apartments</td>\n",
              "      <td>$15,000 to $19,999</td>\n",
              "      <td>metro</td>\n",
              "      <td>rented for cash</td>\n",
              "      <td>democrat</td>\n",
              "      <td>protestant (e.g., methodist, lutheran, presbyt...</td>\n",
              "      <td>working - as a paid employee</td>\n",
              "      <td>0</td>\n",
              "      <td>0</td>\n",
              "    </tr>\n",
              "  </tbody>\n",
              "</table>\n",
              "</div>\n",
              "    <div class=\"colab-df-buttons\">\n",
              "\n",
              "  <div class=\"colab-df-container\">\n",
              "    <button class=\"colab-df-convert\" onclick=\"convertToInteractive('df-4515c409-307d-4218-b31c-53b5eda1420c')\"\n",
              "            title=\"Convert this dataframe to an interactive table.\"\n",
              "            style=\"display:none;\">\n",
              "\n",
              "  <svg xmlns=\"http://www.w3.org/2000/svg\" height=\"24px\" viewBox=\"0 -960 960 960\">\n",
              "    <path d=\"M120-120v-720h720v720H120Zm60-500h600v-160H180v160Zm220 220h160v-160H400v160Zm0 220h160v-160H400v160ZM180-400h160v-160H180v160Zm440 0h160v-160H620v160ZM180-180h160v-160H180v160Zm440 0h160v-160H620v160Z\"/>\n",
              "  </svg>\n",
              "    </button>\n",
              "\n",
              "  <style>\n",
              "    .colab-df-container {\n",
              "      display:flex;\n",
              "      gap: 12px;\n",
              "    }\n",
              "\n",
              "    .colab-df-convert {\n",
              "      background-color: #E8F0FE;\n",
              "      border: none;\n",
              "      border-radius: 50%;\n",
              "      cursor: pointer;\n",
              "      display: none;\n",
              "      fill: #1967D2;\n",
              "      height: 32px;\n",
              "      padding: 0 0 0 0;\n",
              "      width: 32px;\n",
              "    }\n",
              "\n",
              "    .colab-df-convert:hover {\n",
              "      background-color: #E2EBFA;\n",
              "      box-shadow: 0px 1px 2px rgba(60, 64, 67, 0.3), 0px 1px 3px 1px rgba(60, 64, 67, 0.15);\n",
              "      fill: #174EA6;\n",
              "    }\n",
              "\n",
              "    .colab-df-buttons div {\n",
              "      margin-bottom: 4px;\n",
              "    }\n",
              "\n",
              "    [theme=dark] .colab-df-convert {\n",
              "      background-color: #3B4455;\n",
              "      fill: #D2E3FC;\n",
              "    }\n",
              "\n",
              "    [theme=dark] .colab-df-convert:hover {\n",
              "      background-color: #434B5C;\n",
              "      box-shadow: 0px 1px 3px 1px rgba(0, 0, 0, 0.15);\n",
              "      filter: drop-shadow(0px 1px 2px rgba(0, 0, 0, 0.3));\n",
              "      fill: #FFFFFF;\n",
              "    }\n",
              "  </style>\n",
              "\n",
              "    <script>\n",
              "      const buttonEl =\n",
              "        document.querySelector('#df-4515c409-307d-4218-b31c-53b5eda1420c button.colab-df-convert');\n",
              "      buttonEl.style.display =\n",
              "        google.colab.kernel.accessAllowed ? 'block' : 'none';\n",
              "\n",
              "      async function convertToInteractive(key) {\n",
              "        const element = document.querySelector('#df-4515c409-307d-4218-b31c-53b5eda1420c');\n",
              "        const dataTable =\n",
              "          await google.colab.kernel.invokeFunction('convertToInteractive',\n",
              "                                                    [key], {});\n",
              "        if (!dataTable) return;\n",
              "\n",
              "        const docLinkHtml = 'Like what you see? Visit the ' +\n",
              "          '<a target=\"_blank\" href=https://colab.research.google.com/notebooks/data_table.ipynb>data table notebook</a>'\n",
              "          + ' to learn more about interactive tables.';\n",
              "        element.innerHTML = '';\n",
              "        dataTable['output_type'] = 'display_data';\n",
              "        await google.colab.output.renderOutput(dataTable, element);\n",
              "        const docLink = document.createElement('div');\n",
              "        docLink.innerHTML = docLinkHtml;\n",
              "        element.appendChild(docLink);\n",
              "      }\n",
              "    </script>\n",
              "  </div>\n",
              "\n",
              "\n",
              "<div id=\"df-4b7c9064-2480-45b1-bb87-1f34e889f7c9\">\n",
              "  <button class=\"colab-df-quickchart\" onclick=\"quickchart('df-4b7c9064-2480-45b1-bb87-1f34e889f7c9')\"\n",
              "            title=\"Suggest charts.\"\n",
              "            style=\"display:none;\">\n",
              "\n",
              "<svg xmlns=\"http://www.w3.org/2000/svg\" height=\"24px\"viewBox=\"0 0 24 24\"\n",
              "     width=\"24px\">\n",
              "    <g>\n",
              "        <path d=\"M19 3H5c-1.1 0-2 .9-2 2v14c0 1.1.9 2 2 2h14c1.1 0 2-.9 2-2V5c0-1.1-.9-2-2-2zM9 17H7v-7h2v7zm4 0h-2V7h2v10zm4 0h-2v-4h2v4z\"/>\n",
              "    </g>\n",
              "</svg>\n",
              "  </button>\n",
              "\n",
              "<style>\n",
              "  .colab-df-quickchart {\n",
              "      --bg-color: #E8F0FE;\n",
              "      --fill-color: #1967D2;\n",
              "      --hover-bg-color: #E2EBFA;\n",
              "      --hover-fill-color: #174EA6;\n",
              "      --disabled-fill-color: #AAA;\n",
              "      --disabled-bg-color: #DDD;\n",
              "  }\n",
              "\n",
              "  [theme=dark] .colab-df-quickchart {\n",
              "      --bg-color: #3B4455;\n",
              "      --fill-color: #D2E3FC;\n",
              "      --hover-bg-color: #434B5C;\n",
              "      --hover-fill-color: #FFFFFF;\n",
              "      --disabled-bg-color: #3B4455;\n",
              "      --disabled-fill-color: #666;\n",
              "  }\n",
              "\n",
              "  .colab-df-quickchart {\n",
              "    background-color: var(--bg-color);\n",
              "    border: none;\n",
              "    border-radius: 50%;\n",
              "    cursor: pointer;\n",
              "    display: none;\n",
              "    fill: var(--fill-color);\n",
              "    height: 32px;\n",
              "    padding: 0;\n",
              "    width: 32px;\n",
              "  }\n",
              "\n",
              "  .colab-df-quickchart:hover {\n",
              "    background-color: var(--hover-bg-color);\n",
              "    box-shadow: 0 1px 2px rgba(60, 64, 67, 0.3), 0 1px 3px 1px rgba(60, 64, 67, 0.15);\n",
              "    fill: var(--button-hover-fill-color);\n",
              "  }\n",
              "\n",
              "  .colab-df-quickchart-complete:disabled,\n",
              "  .colab-df-quickchart-complete:disabled:hover {\n",
              "    background-color: var(--disabled-bg-color);\n",
              "    fill: var(--disabled-fill-color);\n",
              "    box-shadow: none;\n",
              "  }\n",
              "\n",
              "  .colab-df-spinner {\n",
              "    border: 2px solid var(--fill-color);\n",
              "    border-color: transparent;\n",
              "    border-bottom-color: var(--fill-color);\n",
              "    animation:\n",
              "      spin 1s steps(1) infinite;\n",
              "  }\n",
              "\n",
              "  @keyframes spin {\n",
              "    0% {\n",
              "      border-color: transparent;\n",
              "      border-bottom-color: var(--fill-color);\n",
              "      border-left-color: var(--fill-color);\n",
              "    }\n",
              "    20% {\n",
              "      border-color: transparent;\n",
              "      border-left-color: var(--fill-color);\n",
              "      border-top-color: var(--fill-color);\n",
              "    }\n",
              "    30% {\n",
              "      border-color: transparent;\n",
              "      border-left-color: var(--fill-color);\n",
              "      border-top-color: var(--fill-color);\n",
              "      border-right-color: var(--fill-color);\n",
              "    }\n",
              "    40% {\n",
              "      border-color: transparent;\n",
              "      border-right-color: var(--fill-color);\n",
              "      border-top-color: var(--fill-color);\n",
              "    }\n",
              "    60% {\n",
              "      border-color: transparent;\n",
              "      border-right-color: var(--fill-color);\n",
              "    }\n",
              "    80% {\n",
              "      border-color: transparent;\n",
              "      border-right-color: var(--fill-color);\n",
              "      border-bottom-color: var(--fill-color);\n",
              "    }\n",
              "    90% {\n",
              "      border-color: transparent;\n",
              "      border-bottom-color: var(--fill-color);\n",
              "    }\n",
              "  }\n",
              "</style>\n",
              "\n",
              "  <script>\n",
              "    async function quickchart(key) {\n",
              "      const quickchartButtonEl =\n",
              "        document.querySelector('#' + key + ' button');\n",
              "      quickchartButtonEl.disabled = true;  // To prevent multiple clicks.\n",
              "      quickchartButtonEl.classList.add('colab-df-spinner');\n",
              "      try {\n",
              "        const charts = await google.colab.kernel.invokeFunction(\n",
              "            'suggestCharts', [key], {});\n",
              "      } catch (error) {\n",
              "        console.error('Error during call to suggestCharts:', error);\n",
              "      }\n",
              "      quickchartButtonEl.classList.remove('colab-df-spinner');\n",
              "      quickchartButtonEl.classList.add('colab-df-quickchart-complete');\n",
              "    }\n",
              "    (() => {\n",
              "      let quickchartButtonEl =\n",
              "        document.querySelector('#df-4b7c9064-2480-45b1-bb87-1f34e889f7c9 button');\n",
              "      quickchartButtonEl.style.display =\n",
              "        google.colab.kernel.accessAllowed ? 'block' : 'none';\n",
              "    })();\n",
              "  </script>\n",
              "</div>\n",
              "    </div>\n",
              "  </div>\n"
            ]
          },
          "metadata": {},
          "execution_count": 5
        }
      ],
      "source": [
        "# Take a peak at the data\n",
        "data.head()"
      ]
    },
    {
      "cell_type": "code",
      "execution_count": null,
      "metadata": {
        "collapsed": true,
        "id": "ZL01O21N9R5V"
      },
      "outputs": [],
      "source": [
        "# Define categorical names and indices\n",
        "categorical_features = list(data.columns[5:])\n",
        "categorical_idx = list(range(5, len(data.columns)))\n",
        "continuous_features = list(data.columns[0:5])\n",
        "continuous_idx = list(range(0,5))\n",
        "\n",
        "X = data.values\n",
        "\n",
        "# Get feature names and their values for categorical data (needed for LIME)\n",
        "categorical_names = {}\n",
        "for idx, feature in zip(categorical_idx, categorical_features):\n",
        "    le = LabelEncoder()\n",
        "    X[:, idx] = le.fit_transform(X[:, idx])\n",
        "    categorical_names[idx] = le.classes_\n",
        "\n",
        "# To suppress a warning later (not strictly necessary)\n",
        "X = X.astype(float)\n",
        "\n",
        "# Train test split\n",
        "train, test, labels_train, labels_test = train_test_split(\n",
        "    X, labels, train_size=0.70, random_state=42\n",
        ")"
      ]
    },
    {
      "cell_type": "code",
      "execution_count": null,
      "metadata": {
        "colab": {
          "base_uri": "https://localhost:8080/"
        },
        "id": "yWjRH_JdpaIl",
        "outputId": "264ca55b-f22f-419b-e717-ae2d0c118ca9"
      },
      "outputs": [
        {
          "output_type": "execute_result",
          "data": {
            "text/plain": [
              "(1030, 18)"
            ]
          },
          "metadata": {},
          "execution_count": 7
        }
      ],
      "source": [
        "np.shape(train)"
      ]
    },
    {
      "cell_type": "code",
      "execution_count": null,
      "metadata": {
        "colab": {
          "base_uri": "https://localhost:8080/"
        },
        "id": "gQrtTT1Dp01k",
        "outputId": "130e77b2-2a8b-48eb-b118-d441ae2a682b"
      },
      "outputs": [
        {
          "output_type": "execute_result",
          "data": {
            "text/plain": [
              "(442, 18)"
            ]
          },
          "metadata": {},
          "execution_count": 8
        }
      ],
      "source": [
        "np.shape(test)"
      ]
    },
    {
      "cell_type": "code",
      "execution_count": null,
      "metadata": {
        "collapsed": true,
        "id": "2S74Y58T9R5W"
      },
      "outputs": [],
      "source": [
        "# Preprocessing pipeline\n",
        "#\n",
        "# LIME needs a function that takes raw inputs and returns a prediction (see below).\n",
        "# We use sklearn's pipeline to handle preprocessing, it simplifies the interaction with LIME (see below).\n",
        "# There are several ways to build this pipeline. For demo purposes, we here show the verbose option (and we\n",
        "# avoid scaling one-hot encoded features).\n",
        "\n",
        "continuous_pipeline = Pipeline([\n",
        "    ('selector', DataSelector(continuous_idx)),\n",
        "    ('scaler', StandardScaler()),\n",
        "    ])\n",
        "\n",
        "categorical_pipeline = Pipeline([\n",
        "    ('selector', DataSelector(categorical_idx)),\n",
        "    ('encoder', OneHotEncoder(sparse=False)),\n",
        "    ])\n",
        "\n",
        "preprocessing_pipeline = FeatureUnion(transformer_list=[\n",
        "    (\"continuous_pipeline\", continuous_pipeline),\n",
        "    (\"categorical_pipeline\", categorical_pipeline),\n",
        "    ])\n",
        "\n",
        "# There are less verbose alternatives, especially if we scale one-hot encoded features,\n",
        "# an accepted practice in the machine learning community:\n",
        "#\n",
        "#     preprocessing_pipeline = Pipeline([\n",
        "#        ('onehotencoder', OneHotEncoder(categorical_features=categorical_idx, sparse=False)),\n",
        "#        ('scaler', StandardScaler())\n",
        "#     ])\n",
        "#\n",
        "# Finally, instead of the low-level Pipeline constructor, we can use sklearn's makepipeline:\n",
        "#\n",
        "#     preprocessing_pipeline = make_pipeline(\n",
        "#         OneHotEncoder(categorical_features=categorical_idx, sparse=False),\n",
        "#         StandardScaler()\n",
        "#     )"
      ]
    },
    {
      "cell_type": "code",
      "source": [
        "train"
      ],
      "metadata": {
        "colab": {
          "base_uri": "https://localhost:8080/"
        },
        "id": "QaRMjVP4pozJ",
        "outputId": "946154e3-18f1-4572-f815-8591b55bcd4c"
      },
      "execution_count": null,
      "outputs": [
        {
          "output_type": "execute_result",
          "data": {
            "text/plain": [
              "array([[32., 51., 19., ...,  5.,  0.,  1.],\n",
              "       [47., 49.,  2., ...,  5.,  0.,  1.],\n",
              "       [72., 65.,  7., ...,  4.,  0.,  1.],\n",
              "       ...,\n",
              "       [49., 58.,  9., ...,  5.,  0.,  1.],\n",
              "       [63., 61.,  2., ...,  1.,  0.,  0.],\n",
              "       [32., 29.,  3., ...,  6.,  0.,  2.]])"
            ]
          },
          "metadata": {},
          "execution_count": 40
        }
      ]
    },
    {
      "cell_type": "code",
      "source": [
        "labels_train"
      ],
      "metadata": {
        "colab": {
          "base_uri": "https://localhost:8080/"
        },
        "id": "BrB8HobDprBP",
        "outputId": "09cc8dab-55c7-447f-b3ed-17d58c278316"
      },
      "execution_count": null,
      "outputs": [
        {
          "output_type": "execute_result",
          "data": {
            "text/plain": [
              "135     1.0\n",
              "1100    1.0\n",
              "478     1.0\n",
              "975     1.0\n",
              "436     1.0\n",
              "       ... \n",
              "1131    1.0\n",
              "1295    1.0\n",
              "861     1.0\n",
              "1460    1.0\n",
              "1127    1.0\n",
              "Name: success, Length: 1030, dtype: float64"
            ]
          },
          "metadata": {},
          "execution_count": 41
        }
      ]
    },
    {
      "cell_type": "code",
      "execution_count": null,
      "metadata": {
        "colab": {
          "base_uri": "https://localhost:8080/",
          "height": 323
        },
        "id": "0SpVTe3k9R5W",
        "outputId": "0741b45e-c335-432c-cbd7-bc40f86c2915"
      },
      "outputs": [
        {
          "output_type": "stream",
          "name": "stderr",
          "text": [
            "`sparse` was renamed to `sparse_output` in version 1.2 and will be removed in 1.4. `sparse_output` is ignored unless you leave `sparse` to its default value.\n"
          ]
        },
        {
          "output_type": "execute_result",
          "data": {
            "text/plain": [
              "Pipeline(steps=[('featureunion',\n",
              "                 FeatureUnion(transformer_list=[('continuous_pipeline',\n",
              "                                                 Pipeline(steps=[('selector',\n",
              "                                                                  DataSelector(attribute_indices=[0,\n",
              "                                                                                                  1,\n",
              "                                                                                                  2,\n",
              "                                                                                                  3,\n",
              "                                                                                                  4])),\n",
              "                                                                 ('scaler',\n",
              "                                                                  StandardScaler())])),\n",
              "                                                ('categorical_pipeline',\n",
              "                                                 Pipeline(steps=[('selector',\n",
              "                                                                  DataSelector(attribute_indices=[5,\n",
              "                                                                                                  6,\n",
              "                                                                                                  7,\n",
              "                                                                                                  8,\n",
              "                                                                                                  9,\n",
              "                                                                                                  10,\n",
              "                                                                                                  11,\n",
              "                                                                                                  12,\n",
              "                                                                                                  13,\n",
              "                                                                                                  14,\n",
              "                                                                                                  15,\n",
              "                                                                                                  16,\n",
              "                                                                                                  17])),\n",
              "                                                                 ('encoder',\n",
              "                                                                  OneHotEncoder(sparse=False,\n",
              "                                                                                sparse_output=False))]))])),\n",
              "                ('gridsearchcv',\n",
              "                 GridSearchCV(cv=5,\n",
              "                              estimator=RandomForestClassifier(class_weight='balanced'),\n",
              "                              param_grid=[{'max_depth': [15, 20, 25],\n",
              "                                           'max_features': [4, 8, 12, 16],\n",
              "                                           'min_samples_split': [8, 12, 16],\n",
              "                                           'n_estimators': [16, 20, 24]}],\n",
              "                              scoring='neg_mean_squared_error'))])"
            ],
            "text/html": [
              "<style>#sk-container-id-1 {color: black;background-color: white;}#sk-container-id-1 pre{padding: 0;}#sk-container-id-1 div.sk-toggleable {background-color: white;}#sk-container-id-1 label.sk-toggleable__label {cursor: pointer;display: block;width: 100%;margin-bottom: 0;padding: 0.3em;box-sizing: border-box;text-align: center;}#sk-container-id-1 label.sk-toggleable__label-arrow:before {content: \"▸\";float: left;margin-right: 0.25em;color: #696969;}#sk-container-id-1 label.sk-toggleable__label-arrow:hover:before {color: black;}#sk-container-id-1 div.sk-estimator:hover label.sk-toggleable__label-arrow:before {color: black;}#sk-container-id-1 div.sk-toggleable__content {max-height: 0;max-width: 0;overflow: hidden;text-align: left;background-color: #f0f8ff;}#sk-container-id-1 div.sk-toggleable__content pre {margin: 0.2em;color: black;border-radius: 0.25em;background-color: #f0f8ff;}#sk-container-id-1 input.sk-toggleable__control:checked~div.sk-toggleable__content {max-height: 200px;max-width: 100%;overflow: auto;}#sk-container-id-1 input.sk-toggleable__control:checked~label.sk-toggleable__label-arrow:before {content: \"▾\";}#sk-container-id-1 div.sk-estimator input.sk-toggleable__control:checked~label.sk-toggleable__label {background-color: #d4ebff;}#sk-container-id-1 div.sk-label input.sk-toggleable__control:checked~label.sk-toggleable__label {background-color: #d4ebff;}#sk-container-id-1 input.sk-hidden--visually {border: 0;clip: rect(1px 1px 1px 1px);clip: rect(1px, 1px, 1px, 1px);height: 1px;margin: -1px;overflow: hidden;padding: 0;position: absolute;width: 1px;}#sk-container-id-1 div.sk-estimator {font-family: monospace;background-color: #f0f8ff;border: 1px dotted black;border-radius: 0.25em;box-sizing: border-box;margin-bottom: 0.5em;}#sk-container-id-1 div.sk-estimator:hover {background-color: #d4ebff;}#sk-container-id-1 div.sk-parallel-item::after {content: \"\";width: 100%;border-bottom: 1px solid gray;flex-grow: 1;}#sk-container-id-1 div.sk-label:hover label.sk-toggleable__label {background-color: #d4ebff;}#sk-container-id-1 div.sk-serial::before {content: \"\";position: absolute;border-left: 1px solid gray;box-sizing: border-box;top: 0;bottom: 0;left: 50%;z-index: 0;}#sk-container-id-1 div.sk-serial {display: flex;flex-direction: column;align-items: center;background-color: white;padding-right: 0.2em;padding-left: 0.2em;position: relative;}#sk-container-id-1 div.sk-item {position: relative;z-index: 1;}#sk-container-id-1 div.sk-parallel {display: flex;align-items: stretch;justify-content: center;background-color: white;position: relative;}#sk-container-id-1 div.sk-item::before, #sk-container-id-1 div.sk-parallel-item::before {content: \"\";position: absolute;border-left: 1px solid gray;box-sizing: border-box;top: 0;bottom: 0;left: 50%;z-index: -1;}#sk-container-id-1 div.sk-parallel-item {display: flex;flex-direction: column;z-index: 1;position: relative;background-color: white;}#sk-container-id-1 div.sk-parallel-item:first-child::after {align-self: flex-end;width: 50%;}#sk-container-id-1 div.sk-parallel-item:last-child::after {align-self: flex-start;width: 50%;}#sk-container-id-1 div.sk-parallel-item:only-child::after {width: 0;}#sk-container-id-1 div.sk-dashed-wrapped {border: 1px dashed gray;margin: 0 0.4em 0.5em 0.4em;box-sizing: border-box;padding-bottom: 0.4em;background-color: white;}#sk-container-id-1 div.sk-label label {font-family: monospace;font-weight: bold;display: inline-block;line-height: 1.2em;}#sk-container-id-1 div.sk-label-container {text-align: center;}#sk-container-id-1 div.sk-container {/* jupyter's `normalize.less` sets `[hidden] { display: none; }` but bootstrap.min.css set `[hidden] { display: none !important; }` so we also need the `!important` here to be able to override the default hidden behavior on the sphinx rendered scikit-learn.org. See: https://github.com/scikit-learn/scikit-learn/issues/21755 */display: inline-block !important;position: relative;}#sk-container-id-1 div.sk-text-repr-fallback {display: none;}</style><div id=\"sk-container-id-1\" class=\"sk-top-container\"><div class=\"sk-text-repr-fallback\"><pre>Pipeline(steps=[(&#x27;featureunion&#x27;,\n",
              "                 FeatureUnion(transformer_list=[(&#x27;continuous_pipeline&#x27;,\n",
              "                                                 Pipeline(steps=[(&#x27;selector&#x27;,\n",
              "                                                                  DataSelector(attribute_indices=[0,\n",
              "                                                                                                  1,\n",
              "                                                                                                  2,\n",
              "                                                                                                  3,\n",
              "                                                                                                  4])),\n",
              "                                                                 (&#x27;scaler&#x27;,\n",
              "                                                                  StandardScaler())])),\n",
              "                                                (&#x27;categorical_pipeline&#x27;,\n",
              "                                                 Pipeline(steps=[(&#x27;selector&#x27;,\n",
              "                                                                  DataSelector(attribute_indices=[5,\n",
              "                                                                                                  6,\n",
              "                                                                                                  7,\n",
              "                                                                                                  8,\n",
              "                                                                                                  9,\n",
              "                                                                                                  10,\n",
              "                                                                                                  11,\n",
              "                                                                                                  12,\n",
              "                                                                                                  13,\n",
              "                                                                                                  14,\n",
              "                                                                                                  15,\n",
              "                                                                                                  16,\n",
              "                                                                                                  17])),\n",
              "                                                                 (&#x27;encoder&#x27;,\n",
              "                                                                  OneHotEncoder(sparse=False,\n",
              "                                                                                sparse_output=False))]))])),\n",
              "                (&#x27;gridsearchcv&#x27;,\n",
              "                 GridSearchCV(cv=5,\n",
              "                              estimator=RandomForestClassifier(class_weight=&#x27;balanced&#x27;),\n",
              "                              param_grid=[{&#x27;max_depth&#x27;: [15, 20, 25],\n",
              "                                           &#x27;max_features&#x27;: [4, 8, 12, 16],\n",
              "                                           &#x27;min_samples_split&#x27;: [8, 12, 16],\n",
              "                                           &#x27;n_estimators&#x27;: [16, 20, 24]}],\n",
              "                              scoring=&#x27;neg_mean_squared_error&#x27;))])</pre><b>In a Jupyter environment, please rerun this cell to show the HTML representation or trust the notebook. <br />On GitHub, the HTML representation is unable to render, please try loading this page with nbviewer.org.</b></div><div class=\"sk-container\" hidden><div class=\"sk-item sk-dashed-wrapped\"><div class=\"sk-label-container\"><div class=\"sk-label sk-toggleable\"><input class=\"sk-toggleable__control sk-hidden--visually\" id=\"sk-estimator-id-1\" type=\"checkbox\" ><label for=\"sk-estimator-id-1\" class=\"sk-toggleable__label sk-toggleable__label-arrow\">Pipeline</label><div class=\"sk-toggleable__content\"><pre>Pipeline(steps=[(&#x27;featureunion&#x27;,\n",
              "                 FeatureUnion(transformer_list=[(&#x27;continuous_pipeline&#x27;,\n",
              "                                                 Pipeline(steps=[(&#x27;selector&#x27;,\n",
              "                                                                  DataSelector(attribute_indices=[0,\n",
              "                                                                                                  1,\n",
              "                                                                                                  2,\n",
              "                                                                                                  3,\n",
              "                                                                                                  4])),\n",
              "                                                                 (&#x27;scaler&#x27;,\n",
              "                                                                  StandardScaler())])),\n",
              "                                                (&#x27;categorical_pipeline&#x27;,\n",
              "                                                 Pipeline(steps=[(&#x27;selector&#x27;,\n",
              "                                                                  DataSelector(attribute_indices=[5,\n",
              "                                                                                                  6,\n",
              "                                                                                                  7,\n",
              "                                                                                                  8,\n",
              "                                                                                                  9,\n",
              "                                                                                                  10,\n",
              "                                                                                                  11,\n",
              "                                                                                                  12,\n",
              "                                                                                                  13,\n",
              "                                                                                                  14,\n",
              "                                                                                                  15,\n",
              "                                                                                                  16,\n",
              "                                                                                                  17])),\n",
              "                                                                 (&#x27;encoder&#x27;,\n",
              "                                                                  OneHotEncoder(sparse=False,\n",
              "                                                                                sparse_output=False))]))])),\n",
              "                (&#x27;gridsearchcv&#x27;,\n",
              "                 GridSearchCV(cv=5,\n",
              "                              estimator=RandomForestClassifier(class_weight=&#x27;balanced&#x27;),\n",
              "                              param_grid=[{&#x27;max_depth&#x27;: [15, 20, 25],\n",
              "                                           &#x27;max_features&#x27;: [4, 8, 12, 16],\n",
              "                                           &#x27;min_samples_split&#x27;: [8, 12, 16],\n",
              "                                           &#x27;n_estimators&#x27;: [16, 20, 24]}],\n",
              "                              scoring=&#x27;neg_mean_squared_error&#x27;))])</pre></div></div></div><div class=\"sk-serial\"><div class=\"sk-item sk-dashed-wrapped\"><div class=\"sk-label-container\"><div class=\"sk-label sk-toggleable\"><input class=\"sk-toggleable__control sk-hidden--visually\" id=\"sk-estimator-id-2\" type=\"checkbox\" ><label for=\"sk-estimator-id-2\" class=\"sk-toggleable__label sk-toggleable__label-arrow\">featureunion: FeatureUnion</label><div class=\"sk-toggleable__content\"><pre>FeatureUnion(transformer_list=[(&#x27;continuous_pipeline&#x27;,\n",
              "                                Pipeline(steps=[(&#x27;selector&#x27;,\n",
              "                                                 DataSelector(attribute_indices=[0,\n",
              "                                                                                 1,\n",
              "                                                                                 2,\n",
              "                                                                                 3,\n",
              "                                                                                 4])),\n",
              "                                                (&#x27;scaler&#x27;, StandardScaler())])),\n",
              "                               (&#x27;categorical_pipeline&#x27;,\n",
              "                                Pipeline(steps=[(&#x27;selector&#x27;,\n",
              "                                                 DataSelector(attribute_indices=[5,\n",
              "                                                                                 6,\n",
              "                                                                                 7,\n",
              "                                                                                 8,\n",
              "                                                                                 9,\n",
              "                                                                                 10,\n",
              "                                                                                 11,\n",
              "                                                                                 12,\n",
              "                                                                                 13,\n",
              "                                                                                 14,\n",
              "                                                                                 15,\n",
              "                                                                                 16,\n",
              "                                                                                 17])),\n",
              "                                                (&#x27;encoder&#x27;,\n",
              "                                                 OneHotEncoder(sparse=False,\n",
              "                                                               sparse_output=False))]))])</pre></div></div></div><div class=\"sk-parallel\"><div class=\"sk-parallel-item\"><div class=\"sk-item\"><div class=\"sk-label-container\"><div class=\"sk-label sk-toggleable\"><label>continuous_pipeline</label></div></div><div class=\"sk-serial\"><div class=\"sk-item\"><div class=\"sk-serial\"><div class=\"sk-item\"><div class=\"sk-estimator sk-toggleable\"><input class=\"sk-toggleable__control sk-hidden--visually\" id=\"sk-estimator-id-3\" type=\"checkbox\" ><label for=\"sk-estimator-id-3\" class=\"sk-toggleable__label sk-toggleable__label-arrow\">DataSelector</label><div class=\"sk-toggleable__content\"><pre>DataSelector(attribute_indices=[0, 1, 2, 3, 4])</pre></div></div></div><div class=\"sk-item\"><div class=\"sk-estimator sk-toggleable\"><input class=\"sk-toggleable__control sk-hidden--visually\" id=\"sk-estimator-id-4\" type=\"checkbox\" ><label for=\"sk-estimator-id-4\" class=\"sk-toggleable__label sk-toggleable__label-arrow\">StandardScaler</label><div class=\"sk-toggleable__content\"><pre>StandardScaler()</pre></div></div></div></div></div></div></div></div><div class=\"sk-parallel-item\"><div class=\"sk-item\"><div class=\"sk-label-container\"><div class=\"sk-label sk-toggleable\"><label>categorical_pipeline</label></div></div><div class=\"sk-serial\"><div class=\"sk-item\"><div class=\"sk-serial\"><div class=\"sk-item\"><div class=\"sk-estimator sk-toggleable\"><input class=\"sk-toggleable__control sk-hidden--visually\" id=\"sk-estimator-id-5\" type=\"checkbox\" ><label for=\"sk-estimator-id-5\" class=\"sk-toggleable__label sk-toggleable__label-arrow\">DataSelector</label><div class=\"sk-toggleable__content\"><pre>DataSelector(attribute_indices=[5, 6, 7, 8, 9, 10, 11, 12, 13, 14, 15, 16, 17])</pre></div></div></div><div class=\"sk-item\"><div class=\"sk-estimator sk-toggleable\"><input class=\"sk-toggleable__control sk-hidden--visually\" id=\"sk-estimator-id-6\" type=\"checkbox\" ><label for=\"sk-estimator-id-6\" class=\"sk-toggleable__label sk-toggleable__label-arrow\">OneHotEncoder</label><div class=\"sk-toggleable__content\"><pre>OneHotEncoder(sparse=False, sparse_output=False)</pre></div></div></div></div></div></div></div></div></div></div><div class=\"sk-item sk-dashed-wrapped\"><div class=\"sk-label-container\"><div class=\"sk-label sk-toggleable\"><input class=\"sk-toggleable__control sk-hidden--visually\" id=\"sk-estimator-id-7\" type=\"checkbox\" ><label for=\"sk-estimator-id-7\" class=\"sk-toggleable__label sk-toggleable__label-arrow\">gridsearchcv: GridSearchCV</label><div class=\"sk-toggleable__content\"><pre>GridSearchCV(cv=5, estimator=RandomForestClassifier(class_weight=&#x27;balanced&#x27;),\n",
              "             param_grid=[{&#x27;max_depth&#x27;: [15, 20, 25],\n",
              "                          &#x27;max_features&#x27;: [4, 8, 12, 16],\n",
              "                          &#x27;min_samples_split&#x27;: [8, 12, 16],\n",
              "                          &#x27;n_estimators&#x27;: [16, 20, 24]}],\n",
              "             scoring=&#x27;neg_mean_squared_error&#x27;)</pre></div></div></div><div class=\"sk-parallel\"><div class=\"sk-parallel-item\"><div class=\"sk-item\"><div class=\"sk-label-container\"><div class=\"sk-label sk-toggleable\"><input class=\"sk-toggleable__control sk-hidden--visually\" id=\"sk-estimator-id-8\" type=\"checkbox\" ><label for=\"sk-estimator-id-8\" class=\"sk-toggleable__label sk-toggleable__label-arrow\">estimator: RandomForestClassifier</label><div class=\"sk-toggleable__content\"><pre>RandomForestClassifier(class_weight=&#x27;balanced&#x27;)</pre></div></div></div><div class=\"sk-serial\"><div class=\"sk-item\"><div class=\"sk-estimator sk-toggleable\"><input class=\"sk-toggleable__control sk-hidden--visually\" id=\"sk-estimator-id-9\" type=\"checkbox\" ><label for=\"sk-estimator-id-9\" class=\"sk-toggleable__label sk-toggleable__label-arrow\">RandomForestClassifier</label><div class=\"sk-toggleable__content\"><pre>RandomForestClassifier(class_weight=&#x27;balanced&#x27;)</pre></div></div></div></div></div></div></div></div></div></div></div></div>"
            ]
          },
          "metadata": {},
          "execution_count": 7
        }
      ],
      "source": [
        "# Set up the model and GridSearch for random forest hyperparameter tuning\n",
        "param_grid = [{'n_estimators': [16, 20, 24],\n",
        "               'max_features': [4, 8, 12, 16],\n",
        "               'min_samples_split': [8, 12, 16],\n",
        "               'max_depth': [15, 20, 25]}]\n",
        "\n",
        "rf = RandomForestClassifier(class_weight='balanced')\n",
        "grid_search = GridSearchCV(rf, param_grid, cv=5, scoring='neg_mean_squared_error')\n",
        "\n",
        "# Extend the preprocessing pipeline to include random forest and grid search\n",
        "pipeline = make_pipeline(preprocessing_pipeline, grid_search)\n",
        "\n",
        "# Fit the model and tune the hyperparameters\n",
        "pipeline.fit(train, labels_train)"
      ]
    },
    {
      "cell_type": "code",
      "execution_count": null,
      "metadata": {
        "colab": {
          "base_uri": "https://localhost:8080/"
        },
        "id": "OP0tXP3z9R5X",
        "outputId": "5e50c9be-8749-4d2e-9f4d-d098c67e4cbb"
      },
      "outputs": [
        {
          "output_type": "stream",
          "name": "stdout",
          "text": [
            "{'max_depth': 25, 'max_features': 12, 'min_samples_split': 12, 'n_estimators': 20}\n"
          ]
        }
      ],
      "source": [
        "# Hyperparameters found by GridSearchCV\n",
        "print(pipeline.named_steps['gridsearchcv'].best_params_)"
      ]
    },
    {
      "cell_type": "code",
      "execution_count": null,
      "metadata": {
        "colab": {
          "base_uri": "https://localhost:8080/"
        },
        "id": "3Wzw2ko09R5X",
        "outputId": "4201aa65-c60f-4f7d-f431-53a20f6e90db"
      },
      "outputs": [
        {
          "output_type": "stream",
          "name": "stdout",
          "text": [
            "F1 on train: 0.9408706952566602\n",
            "F1 on test: 0.8776119402985075\n"
          ]
        }
      ],
      "source": [
        "# Evalute random forest classifier on training data (it overfits, small sample size)\n",
        "y_predict = pipeline.predict(train)\n",
        "f1 = f1_score(labels_train, y_predict)\n",
        "print('F1 on train:', f1)\n",
        "\n",
        "# Evalute random forest classifier on test data\n",
        "y_predict = pipeline.predict(test)\n",
        "f1 = f1_score(labels_test, y_predict)\n",
        "print('F1 on test:', f1)"
      ]
    },
    {
      "cell_type": "code",
      "execution_count": null,
      "metadata": {
        "colab": {
          "base_uri": "https://localhost:8080/"
        },
        "id": "kftAuNHt9R5X",
        "outputId": "ef01c09d-f113-44f8-c669-5c1c33bf16d0"
      },
      "outputs": [
        {
          "output_type": "stream",
          "name": "stdout",
          "text": [
            "Feature ranking:\n",
            " 1. feature age (0.301202)\n",
            " 2. feature partner_age (0.108565)\n",
            " 3. feature age_diff_abs (0.075116)\n",
            " 4. feature children (0.062439)\n",
            " 5. feature visits_relatives (0.046711)\n",
            " 6. feature education (0.036658)\n",
            " 7. feature marital_status (0.035251)\n",
            " 8. feature partner_education (0.028319)\n",
            " 9. feature gender (0.013659)\n",
            "10. feature house (0.013521)\n",
            "11. feature income (0.011959)\n",
            "12. feature msa (0.010726)\n",
            "13. feature rent (0.009989)\n",
            "14. feature political (0.009600)\n",
            "15. feature religion (0.008905)\n",
            "16. feature work (0.008512)\n",
            "17. feature gender_older (0.008376)\n",
            "18. feature education_difference (0.008354)\n"
          ]
        }
      ],
      "source": [
        "# Get feature importances of random forest model (\"global interpretability\")\n",
        "best_estimator = pipeline.named_steps['gridsearchcv'].best_estimator_\n",
        "\n",
        "importances = best_estimator.feature_importances_\n",
        "std = np.std([tree.feature_importances_ for tree in best_estimator.estimators_],\n",
        "             axis=0)\n",
        "indices = np.argsort(importances)[::-1]\n",
        "\n",
        "print(\"Feature ranking:\")\n",
        "feature_names = data.columns\n",
        "for f in range(data.shape[1]):\n",
        "    print(\"%2d. feature %s (%f)\" %\n",
        "          (f + 1, feature_names[f], importances[indices[f]]))"
      ]
    },
    {
      "cell_type": "code",
      "execution_count": null,
      "metadata": {
        "collapsed": true,
        "id": "eVkSNI3_9R5X"
      },
      "outputs": [],
      "source": [
        "# Use LIME to explain individual predictions, initialize explainer object\n",
        "lime_explainer = LimeTabularExplainer(\n",
        "    train,\n",
        "    class_names=['BrokeUp', 'StayedTogether'],\n",
        "    feature_names=list(data.columns),\n",
        "    categorical_features=categorical_idx,\n",
        "    categorical_names=categorical_names,\n",
        "    discretize_continuous=True\n",
        ")"
      ]
    },
    {
      "cell_type": "code",
      "execution_count": null,
      "metadata": {
        "colab": {
          "base_uri": "https://localhost:8080/"
        },
        "id": "8M6NyoN9QsP4",
        "outputId": "4f28654e-ed51-41ea-f17e-2b77121b99a8"
      },
      "outputs": [
        {
          "output_type": "stream",
          "name": "stdout",
          "text": [
            "age=53.0\n",
            "partner_age=37.0\n",
            "age_diff_abs=16.0\n",
            "children=0.0\n",
            "visits_relatives=0.0\n",
            "education=1.0\n",
            "marital_status=0.0\n",
            "partner_education=3.0\n",
            "gender=1.0\n",
            "house=3.0\n",
            "income=6.0\n",
            "msa=0.0\n",
            "rent=1.0\n",
            "political=0.0\n",
            "religion=2.0\n",
            "work=6.0\n",
            "gender_older=0.0\n",
            "education_difference=1.0\n"
          ]
        }
      ],
      "source": [
        "for i in range(0, 18):\n",
        "  print(f\"{data.columns[i]}={test[182][i]}\")"
      ]
    },
    {
      "cell_type": "code",
      "execution_count": null,
      "metadata": {
        "colab": {
          "base_uri": "https://localhost:8080/"
        },
        "id": "Sr7CH6NldIvP",
        "outputId": "3ec2fa77-467b-4771-9021-13d826915cff"
      },
      "outputs": [
        {
          "output_type": "execute_result",
          "data": {
            "text/plain": [
              "0.0"
            ]
          },
          "metadata": {},
          "execution_count": 16
        }
      ],
      "source": [
        "import pandas as pd\n",
        "labels_test.to_frame().iloc[182][0]"
      ]
    },
    {
      "cell_type": "code",
      "execution_count": null,
      "metadata": {
        "colab": {
          "base_uri": "https://localhost:8080/"
        },
        "id": "IhOF3QChVY6k",
        "outputId": "846ee1e2-3ba2-4579-e1e4-c477497aa3c0"
      },
      "outputs": [
        {
          "output_type": "stream",
          "name": "stdout",
          "text": [
            "<class 'numpy.float64'>\n"
          ]
        },
        {
          "output_type": "execute_result",
          "data": {
            "text/plain": [
              "numpy.int64"
            ]
          },
          "metadata": {},
          "execution_count": 17
        }
      ],
      "source": [
        "print(type(labels_test[10]))\n",
        "type(labels_test.to_frame().index.values[10])"
      ]
    },
    {
      "cell_type": "code",
      "execution_count": null,
      "metadata": {
        "colab": {
          "base_uri": "https://localhost:8080/"
        },
        "id": "CdbTc3KjWHq0",
        "outputId": "58c0191b-f8c8-4197-ad31-5d02fb75cb7d"
      },
      "outputs": [
        {
          "output_type": "stream",
          "name": "stdout",
          "text": [
            "age=31\n",
            "partner_age=30\n",
            "age_diff_abs=1\n",
            "children=0.0\n",
            "visits_relatives=2\n",
            "education=bachelor's degree or higher\n",
            "marital_status=never married\n",
            "partner_education=some college\n",
            "gender=male\n",
            "house=a building with 2 or more apartments\n",
            "income=$40,000 to $49,999\n",
            "msa=metro\n",
            "rent=rented for cash\n",
            "political=democrat\n",
            "religion=buddhist\n",
            "work=working - as a paid employee\n",
            "gender_older=0\n",
            "education_difference=1\n"
          ]
        }
      ],
      "source": [
        "for feature, value in data.loc[labels_test.to_frame().index.values[10]].items():\n",
        "  print(f\"{feature}={value}\")"
      ]
    },
    {
      "cell_type": "code",
      "execution_count": null,
      "metadata": {
        "colab": {
          "base_uri": "https://localhost:8080/"
        },
        "id": "9l9_RwCEeUSm",
        "outputId": "d2243cb2-5f59-48c1-f95d-061247c91d36"
      },
      "outputs": [
        {
          "output_type": "execute_result",
          "data": {
            "text/plain": [
              "array([0.])"
            ]
          },
          "metadata": {},
          "execution_count": 19
        }
      ],
      "source": [
        "pipeline.predict(test[182].reshape(1,-1))"
      ]
    },
    {
      "cell_type": "code",
      "execution_count": null,
      "metadata": {
        "colab": {
          "base_uri": "https://localhost:8080/"
        },
        "id": "jnqAfSTF9R5X",
        "outputId": "4c27fc33-6ef0-47a6-a717-273dbc86a47c"
      },
      "outputs": [
        {
          "output_type": "stream",
          "name": "stdout",
          "text": [
            "Couples probability of staying together: 0.9309655389687439\n"
          ]
        }
      ],
      "source": [
        "import matplotlib.pyplot as plt\n",
        "# Explain a prediction (\"local interpretability\"):\n",
        "# Now we see that the pipeline that takes raw data and returns the prediction\n",
        "# of the trained model now comes in conveniently.\n",
        "example = 182\n",
        "exp = lime_explainer.explain_instance(test[3], pipeline.predict_proba, num_features=5)\n",
        "print('Couples probability of staying together:', exp.predict_proba[1])\n",
        "fig = exp.as_pyplot_figure()\n",
        "plt.title(\"LIME: Local Agnostic Interpretable Model-Agnostic Explanations\")\n",
        "plt.savefig('lime_couples_rfte_3_titles.png', bbox_inches='tight')"
      ]
    },
    {
      "cell_type": "code",
      "execution_count": null,
      "metadata": {
        "id": "Gx46MeWp4m3y"
      },
      "outputs": [],
      "source": [
        "lime_explainer = LimeTabularExplainer(\n",
        "    train,\n",
        "    class_names=['StayedTogether', 'BrokeUp'],\n",
        "    feature_names=list(data.columns),\n",
        "    categorical_features=categorical_idx,\n",
        "    # categorical_names=categorical_names,\n",
        "    discretize_continuous=True\n",
        ")"
      ]
    },
    {
      "cell_type": "code",
      "execution_count": null,
      "metadata": {
        "colab": {
          "base_uri": "https://localhost:8080/",
          "height": 887
        },
        "id": "muDw8JN04uet",
        "outputId": "97aef61b-4e19-45ae-cc3e-2200dc807775"
      },
      "outputs": [
        {
          "output_type": "execute_result",
          "data": {
            "text/plain": [
              "<Figure size 640x480 with 1 Axes>"
            ],
            "image/png": "[encoded data removed]"
          },
          "metadata": {},
          "execution_count": 22
        },
        {
          "output_type": "display_data",
          "data": {
            "text/plain": [
              "<Figure size 640x480 with 1 Axes>"
            ],
            "image/png": "[encoded data removed]"
          },
          "metadata": {}
        }
      ],
      "source": [
        "exp = lime_explainer.explain_instance(test[example], pipeline.predict_proba, num_features=5)\n",
        "# print('Couples probability of staying together:', exp.predict_proba[1])\n",
        "exp.as_pyplot_figure()"
      ]
    },
    {
      "cell_type": "code",
      "execution_count": null,
      "metadata": {
        "id": "7tXfr7CAhEcD"
      },
      "outputs": [],
      "source": [
        "def strip_feature_descriptions(input_str):\n",
        "    keywords = list(data.columns)\n",
        "\n",
        "    for keyword in keywords:\n",
        "        if keyword in input_str:\n",
        "            return keyword"
      ]
    },
    {
      "cell_type": "code",
      "execution_count": null,
      "metadata": {
        "colab": {
          "base_uri": "https://localhost:8080/"
        },
        "id": "gcQDOa_oq795",
        "outputId": "cc237bae-f17e-400a-deca-a4946f57a350"
      },
      "outputs": [
        {
          "output_type": "stream",
          "name": "stdout",
          "text": [
            "LIME scores for the features marital_status, rent, education, age, age, are, respectively, -0.3296, 0.0317, -0.0314, 0.0304, -0.0268, \n"
          ]
        }
      ],
      "source": [
        "lime_str = \"LIME scores for the features \"\n",
        "for tup in exp.as_list()[:5]:\n",
        "  lime_str += f\"{strip_feature_descriptions(tup[0])}, \"\n",
        "\n",
        "lime_str += \"are, respectively, \"\n",
        "for tup in exp.as_list()[:5]:\n",
        "  lime_str += f\"{round(tup[1], 4)}, \"\n",
        "\n",
        "\n",
        "print(lime_str)"
      ]
    },
    {
      "cell_type": "code",
      "execution_count": null,
      "metadata": {
        "colab": {
          "base_uri": "https://localhost:8080/"
        },
        "id": "0ewRz1pROFKf",
        "outputId": "21cb0bd8-6f08-4526-803c-33b7d2c03405"
      },
      "outputs": [
        {
          "output_type": "stream",
          "name": "stderr",
          "text": [
            "Permutation explainer: 443it [01:12,  5.58it/s]\n"
          ]
        }
      ],
      "source": [
        "shap_explainer = shap.Explainer(pipeline.predict_proba, train, feature_names=list(data.columns))\n",
        "shap_values = shap_explainer(test)"
      ]
    },
    {
      "cell_type": "code",
      "source": [
        "len(list(data.columns))"
      ],
      "metadata": {
        "colab": {
          "base_uri": "https://localhost:8080/"
        },
        "id": "XQrE66W_xEFv",
        "outputId": "d47938ee-d183-4153-cebf-4da752e67c77"
      },
      "execution_count": null,
      "outputs": [
        {
          "output_type": "execute_result",
          "data": {
            "text/plain": [
              "18"
            ]
          },
          "metadata": {},
          "execution_count": 52
        }
      ]
    },
    {
      "cell_type": "code",
      "source": [
        "train.shape"
      ],
      "metadata": {
        "colab": {
          "base_uri": "https://localhost:8080/"
        },
        "id": "cBhGHKa6y-Lk",
        "outputId": "db586aa1-7710-483d-d7e2-3d895158310f"
      },
      "execution_count": null,
      "outputs": [
        {
          "output_type": "execute_result",
          "data": {
            "text/plain": [
              "(1030, 18)"
            ]
          },
          "metadata": {},
          "execution_count": 63
        }
      ]
    },
    {
      "cell_type": "code",
      "source": [
        "test.shape"
      ],
      "metadata": {
        "colab": {
          "base_uri": "https://localhost:8080/"
        },
        "id": "MqGmqk7rzrWz",
        "outputId": "734eeb2f-f221-47b5-b9c0-14d3ae75e254"
      },
      "execution_count": null,
      "outputs": [
        {
          "output_type": "execute_result",
          "data": {
            "text/plain": [
              "(442, 18)"
            ]
          },
          "metadata": {},
          "execution_count": 64
        }
      ]
    },
    {
      "cell_type": "code",
      "execution_count": null,
      "metadata": {
        "colab": {
          "base_uri": "https://localhost:8080/"
        },
        "id": "fM5MRXbHPEoA",
        "outputId": "03cdd31b-de59-4711-b64d-f514101fc741"
      },
      "outputs": [
        {
          "output_type": "stream",
          "name": "stdout",
          "text": [
            "['age', 'partner_age', 'age_diff_abs', 'children', 'visits_relatives', 'education', 'marital_status', 'partner_education', 'gender', 'house', 'income', 'msa', 'rent', 'political', 'religion', 'work', 'gender_older', 'education_difference']\n"
          ]
        }
      ],
      "source": [
        "import matplotlib.pyplot as plt\n",
        "shap_exp = shap.Explanation(shap_values.values, shap_values.base_values[0][0], shap_values.data, feature_names=list(data.columns))\n",
        "print(list(data.columns))\n",
        "plt.clf()\n",
        "shap.plots.waterfall(shap_exp[3,:,1], show=False, max_display=5)\n",
        "plt.title(\"SHAP: Shapley Additive Explanations\")\n",
        "plt.savefig('shap_couples_rfte_3.png', bbox_inches='tight')"
      ]
    },
    {
      "cell_type": "code",
      "execution_count": null,
      "metadata": {
        "colab": {
          "base_uri": "https://localhost:8080/"
        },
        "id": "8RFCHb5Rjzh0",
        "outputId": "0a5e71a8-2b4b-4ca0-82cf-fd865ca9fa0a"
      },
      "outputs": [
        {
          "output_type": "execute_result",
          "data": {
            "text/plain": [
              ".values =\n",
              "array([ 0.0401582 ,  0.00824327, -0.03263471, -0.001052  ,  0.00854634,\n",
              "        0.01226643,  0.14712697, -0.02569429, -0.00935091,  0.00348055,\n",
              "       -0.00167219,  0.01241835,  0.0078657 , -0.01074031, -0.01780965,\n",
              "        0.00126581,  0.01619805,  0.00356466])\n",
              "\n",
              ".base_values =\n",
              "0.29256995058105495\n",
              "\n",
              ".data =\n",
              "array([61., 49., 12.,  0., 50.,  2.,  2.,  2.,  0.,  3., 11.,  1.,  1.,\n",
              "        0.,  0.,  5.,  1.,  0.])"
            ]
          },
          "metadata": {},
          "execution_count": 37
        }
      ],
      "source": [
        "shap_exp[0,:,1]"
      ]
    },
    {
      "cell_type": "code",
      "source": [
        "shap_exp"
      ],
      "metadata": {
        "colab": {
          "base_uri": "https://localhost:8080/"
        },
        "id": "hzB6Wyd5me60",
        "outputId": "6eaaed53-8ac6-4fe9-b704-d60d3ff50b35"
      },
      "execution_count": null,
      "outputs": [
        {
          "output_type": "execute_result",
          "data": {
            "text/plain": [
              ".values =\n",
              "array([[[-0.0401582 ,  0.0401582 ],\n",
              "        [-0.00824327,  0.00824327],\n",
              "        [ 0.03263471, -0.03263471],\n",
              "        ...,\n",
              "        [-0.00126581,  0.00126581],\n",
              "        [-0.01619805,  0.01619805],\n",
              "        [-0.00356466,  0.00356466]],\n",
              "\n",
              "       [[-0.03569204,  0.03569204],\n",
              "        [-0.03499219,  0.03499219],\n",
              "        [-0.001653  ,  0.001653  ],\n",
              "        ...,\n",
              "        [-0.00252647,  0.00252647],\n",
              "        [ 0.00772906, -0.00772906],\n",
              "        [-0.00485991,  0.00485991]],\n",
              "\n",
              "       [[-0.01935198,  0.01935198],\n",
              "        [ 0.01026745, -0.01026745],\n",
              "        [-0.02883157,  0.02883157],\n",
              "        ...,\n",
              "        [ 0.00152157, -0.00152157],\n",
              "        [ 0.00062997, -0.00062997],\n",
              "        [ 0.01343484, -0.01343484]],\n",
              "\n",
              "       ...,\n",
              "\n",
              "       [[-0.00178129,  0.00178129],\n",
              "        [ 0.00805637, -0.00805637],\n",
              "        [-0.00179231,  0.00179231],\n",
              "        ...,\n",
              "        [-0.00306513,  0.00306513],\n",
              "        [-0.00509345,  0.00509345],\n",
              "        [-0.00827449,  0.00827449]],\n",
              "\n",
              "       [[-0.03175817,  0.03175817],\n",
              "        [-0.02363376,  0.02363376],\n",
              "        [-0.01096925,  0.01096925],\n",
              "        ...,\n",
              "        [ 0.00695294, -0.00695294],\n",
              "        [-0.00099721,  0.00099721],\n",
              "        [-0.00099631,  0.00099631]],\n",
              "\n",
              "       [[ 0.03172507, -0.03172507],\n",
              "        [-0.01380878,  0.01380878],\n",
              "        [ 0.00214007, -0.00214007],\n",
              "        ...,\n",
              "        [-0.00807937,  0.00807937],\n",
              "        [-0.00038154,  0.00038154],\n",
              "        [-0.00826454,  0.00826454]]])\n",
              "\n",
              ".base_values =\n",
              "0.29256995058105495\n",
              "\n",
              ".data =\n",
              "array([[61., 49., 12., ...,  5.,  1.,  0.],\n",
              "       [72., 71.,  1., ...,  5.,  1.,  0.],\n",
              "       [56., 50.,  6., ...,  5.,  1.,  1.],\n",
              "       ...,\n",
              "       [34., 30.,  4., ...,  6.,  0.,  0.],\n",
              "       [48., 54.,  6., ...,  6.,  0.,  0.],\n",
              "       [36., 35.,  1., ...,  5.,  0.,  0.]])"
            ]
          },
          "metadata": {},
          "execution_count": 38
        }
      ]
    },
    {
      "cell_type": "code",
      "execution_count": null,
      "metadata": {
        "colab": {
          "base_uri": "https://localhost:8080/"
        },
        "id": "fgrP0J3FrZYe",
        "outputId": "ffa70d32-09e5-474b-be67-a15b99c0510b"
      },
      "outputs": [
        {
          "output_type": "stream",
          "name": "stdout",
          "text": [
            "SHAP scores for the features marital_status, religion, visits_relatives, partner_age, age, are, respectively, -0.2737, 0.029, -0.0216, -0.0208, 0.0201, \n"
          ]
        }
      ],
      "source": [
        "shap_str = \"SHAP scores for the features \"\n",
        "shap_val_list = [(name, val) for name, val in zip(data.columns, shap_exp[example,:,1].values)]\n",
        "shap_val_list = sorted(shap_val_list, key=lambda x: abs(x[1]), reverse=True)\n",
        "for name in shap_val_list[:5]:\n",
        "  shap_str += f\"{name[0]}, \"\n",
        "\n",
        "shap_str += \"are, respectively, \"\n",
        "for val in shap_val_list[:5]:\n",
        "  shap_str += f\"{round(val[1], 4)}, \"\n",
        "\n",
        "\n",
        "print(shap_str)"
      ]
    },
    {
      "cell_type": "code",
      "execution_count": null,
      "metadata": {
        "colab": {
          "base_uri": "https://localhost:8080/",
          "height": 905
        },
        "id": "oKQQegKV9R5X",
        "outputId": "ad7d8207-572c-497a-e95f-19d608ea3e1f"
      },
      "outputs": [
        {
          "output_type": "stream",
          "name": "stdout",
          "text": [
            "Couples probability of staying together: 0.5970688809711671\n"
          ]
        },
        {
          "output_type": "execute_result",
          "data": {
            "text/plain": [
              "<Figure size 640x480 with 1 Axes>"
            ],
            "image/png": "[encoded data removed]"
          },
          "metadata": {},
          "execution_count": 29
        },
        {
          "output_type": "display_data",
          "data": {
            "text/plain": [
              "<Figure size 640x480 with 1 Axes>"
            ],
            "image/png": "[encoded data removed]"
          },
          "metadata": {}
        }
      ],
      "source": [
        "# Explain another prediction (\"local interpretability\"):\n",
        "example = 13\n",
        "exp = lime_explainer.explain_instance(test[example], pipeline.predict_proba, num_features=5)\n",
        "print('Couples probability of staying together:', exp.predict_proba[1])\n",
        "exp.as_pyplot_figure()"
      ]
    },
    {
      "cell_type": "code",
      "execution_count": null,
      "metadata": {
        "colab": {
          "base_uri": "https://localhost:8080/"
        },
        "collapsed": true,
        "id": "If0Yxu8c9R5Y",
        "outputId": "cd43cee8-bfd7-4f69-e0b7-55837d006293"
      },
      "outputs": [
        {
          "output_type": "execute_result",
          "data": {
            "text/plain": [
              "0.0"
            ]
          },
          "metadata": {},
          "execution_count": 30
        }
      ],
      "source": [
        "labels_test[10]"
      ]
    },
    {
      "cell_type": "code",
      "execution_count": null,
      "metadata": {
        "id": "EYLePQRd9R5Y"
      },
      "outputs": [],
      "source": [
        "# # Using LIME for for relationship management (not advised): Current chance of relationship success.\n",
        "# current = [34, 36, 2, 0, 1, 0, 1, 0, 0, 0, 18, 0, 2, 0, 8, 4, 0, 0]\n",
        "# exp = explainer.explain_instance(np.array(current), pipeline.predict_proba, num_features=5)\n",
        "# print('Couples probability of staying together:', exp.predict_proba[1])\n",
        "# exp.as_pyplot_figure()"
      ]
    },
    {
      "cell_type": "code",
      "execution_count": null,
      "metadata": {
        "id": "vb2PmlOY9R5Y",
        "colab": {
          "base_uri": "https://localhost:8080/",
          "height": 250
        },
        "outputId": "3adc8da4-b25d-4174-9b21-f6c762ea7c07"
      },
      "outputs": [
        {
          "output_type": "error",
          "ename": "NameError",
          "evalue": "ignored",
          "traceback": [
            "\u001b[0;31m---------------------------------------------------------------------------\u001b[0m",
            "\u001b[0;31mNameError\u001b[0m                                 Traceback (most recent call last)",
            "\u001b[0;32m<ipython-input-32-52ae87f5c54a>\u001b[0m in \u001b[0;36m<cell line: 3>\u001b[0;34m()\u001b[0m\n\u001b[1;32m      1\u001b[0m \u001b[0;31m# Should I ask for a pay increase? It doesn't matter much.\u001b[0m\u001b[0;34m\u001b[0m\u001b[0;34m\u001b[0m\u001b[0m\n\u001b[1;32m      2\u001b[0m \u001b[0mincrease_income\u001b[0m \u001b[0;34m=\u001b[0m \u001b[0;34m[\u001b[0m\u001b[0;36m34\u001b[0m\u001b[0;34m,\u001b[0m \u001b[0;36m36\u001b[0m\u001b[0;34m,\u001b[0m \u001b[0;36m2\u001b[0m\u001b[0;34m,\u001b[0m \u001b[0;36m0\u001b[0m\u001b[0;34m,\u001b[0m \u001b[0;36m1\u001b[0m\u001b[0;34m,\u001b[0m \u001b[0;36m0\u001b[0m\u001b[0;34m,\u001b[0m \u001b[0;36m1\u001b[0m\u001b[0;34m,\u001b[0m \u001b[0;36m0\u001b[0m\u001b[0;34m,\u001b[0m \u001b[0;36m0\u001b[0m\u001b[0;34m,\u001b[0m \u001b[0;36m0\u001b[0m\u001b[0;34m,\u001b[0m \u001b[0;36m6\u001b[0m\u001b[0;34m,\u001b[0m \u001b[0;36m0\u001b[0m\u001b[0;34m,\u001b[0m \u001b[0;36m2\u001b[0m\u001b[0;34m,\u001b[0m \u001b[0;36m0\u001b[0m\u001b[0;34m,\u001b[0m \u001b[0;36m8\u001b[0m\u001b[0;34m,\u001b[0m \u001b[0;36m4\u001b[0m\u001b[0;34m,\u001b[0m \u001b[0;36m0\u001b[0m\u001b[0;34m,\u001b[0m \u001b[0;36m0\u001b[0m\u001b[0;34m]\u001b[0m\u001b[0;34m\u001b[0m\u001b[0;34m\u001b[0m\u001b[0m\n\u001b[0;32m----> 3\u001b[0;31m \u001b[0mexp\u001b[0m \u001b[0;34m=\u001b[0m \u001b[0mexplainer\u001b[0m\u001b[0;34m.\u001b[0m\u001b[0mexplain_instance\u001b[0m\u001b[0;34m(\u001b[0m\u001b[0mnp\u001b[0m\u001b[0;34m.\u001b[0m\u001b[0marray\u001b[0m\u001b[0;34m(\u001b[0m\u001b[0mincrease_income\u001b[0m\u001b[0;34m)\u001b[0m\u001b[0;34m,\u001b[0m \u001b[0mpipeline\u001b[0m\u001b[0;34m.\u001b[0m\u001b[0mpredict_proba\u001b[0m\u001b[0;34m,\u001b[0m \u001b[0mnum_features\u001b[0m\u001b[0;34m=\u001b[0m\u001b[0;36m5\u001b[0m\u001b[0;34m)\u001b[0m\u001b[0;34m\u001b[0m\u001b[0;34m\u001b[0m\u001b[0m\n\u001b[0m\u001b[1;32m      4\u001b[0m \u001b[0mprint\u001b[0m\u001b[0;34m(\u001b[0m\u001b[0;34m'Couples probability of staying together:'\u001b[0m\u001b[0;34m,\u001b[0m \u001b[0mexp\u001b[0m\u001b[0;34m.\u001b[0m\u001b[0mpredict_proba\u001b[0m\u001b[0;34m[\u001b[0m\u001b[0;36m1\u001b[0m\u001b[0;34m]\u001b[0m\u001b[0;34m)\u001b[0m\u001b[0;34m\u001b[0m\u001b[0;34m\u001b[0m\u001b[0m\n\u001b[1;32m      5\u001b[0m \u001b[0mexp\u001b[0m\u001b[0;34m.\u001b[0m\u001b[0mas_pyplot_figure\u001b[0m\u001b[0;34m(\u001b[0m\u001b[0;34m)\u001b[0m\u001b[0;34m\u001b[0m\u001b[0;34m\u001b[0m\u001b[0m\n",
            "\u001b[0;31mNameError\u001b[0m: name 'explainer' is not defined"
          ]
        }
      ],
      "source": [
        "# Should I ask for a pay increase? It doesn't matter much.\n",
        "increase_income = [34, 36, 2, 0, 1, 0, 1, 0, 0, 0, 6, 0, 2, 0, 8, 4, 0, 0]\n",
        "exp = explainer.explain_instance(np.array(increase_income), pipeline.predict_proba, num_features=5)\n",
        "print('Couples probability of staying together:', exp.predict_proba[1])\n",
        "exp.as_pyplot_figure()"
      ]
    },
    {
      "cell_type": "code",
      "execution_count": null,
      "metadata": {
        "id": "Tbmx45zY9R5Y"
      },
      "outputs": [],
      "source": [
        "# Should I buy a house? Maybe?\n",
        "buy_house = [34, 36, 2, 0, 1, 0, 1, 0, 0, 0, 6, 0, 1, 0, 8, 4, 0, 0]\n",
        "exp = explainer.explain_instance(np.array(buy_house), pipeline.predict_proba, num_features=5)\n",
        "print('Couples probability of staying together:', exp.predict_proba[1])\n",
        "exp.as_pyplot_figure()"
      ]
    },
    {
      "cell_type": "code",
      "execution_count": null,
      "metadata": {
        "id": "KA3fELt49R5Y"
      },
      "outputs": [],
      "source": [
        "# Really, it's best to get married.\n",
        "get_married = [34, 36, 2, 0, 1, 0, 2, 0, 0, 0, 6, 0, 1, 0, 8, 4, 0, 0]\n",
        "exp = explainer.explain_instance(np.array(get_married), pipeline.predict_proba, num_features=5)\n",
        "print('Couples probability of staying together:', exp.predict_proba[1])\n",
        "exp.as_pyplot_figure()"
      ]
    },
    {
      "cell_type": "code",
      "execution_count": null,
      "metadata": {
        "collapsed": true,
        "id": "_UOjn3St9R5Y"
      },
      "outputs": [],
      "source": [
        "\n",
        "explainer = shap.Explainer(model.predict, X100)\n",
        "shap_values = explainer(X)\n"
      ]
    }
  ],
  "metadata": {
    "colab": {
      "provenance": []
    },
    "kernelspec": {
      "display_name": "Python 3",
      "language": "python",
      "name": "python3"
    },
    "language_info": {
      "codemirror_mode": {
        "name": "ipython",
        "version": 3
      },
      "file_extension": ".py",
      "mimetype": "text/x-python",
      "name": "python",
      "nbconvert_exporter": "python",
      "pygments_lexer": "ipython3",
      "version": "3.6.1"
    }
  },
  "nbformat": 4,
  "nbformat_minor": 0
}